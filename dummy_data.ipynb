{
 "cells": [
  {
   "cell_type": "markdown",
   "id": "6c1ff67b",
   "metadata": {},
   "source": [
    "# Populating the Database"
   ]
  },
  {
   "cell_type": "markdown",
   "id": "81619bc6",
   "metadata": {},
   "source": [
    "### The following Python script generates and saves dummy data into CSV files, which are then imported into the PostgreSQL database:\n"
   ]
  },
  {
   "cell_type": "code",
   "execution_count": 2,
   "id": "8c11235a",
   "metadata": {},
   "outputs": [
    {
     "name": "stdout",
     "output_type": "stream",
     "text": [
      "Dummy data generated and saved to CSV files.\n"
     ]
    }
   ],
   "source": [
    "import pandas as pd\n",
    "from faker import Faker\n",
    "import random\n",
    "from datetime import datetime, timedelta\n",
    "\n",
    "# Initialize Faker and define constants\n",
    "fake = Faker()\n",
    "NUM_LIBRARIES = 10\n",
    "NUM_BOOKS = 100\n",
    "NUM_USERS = 40\n",
    "NUM_LOANS = 80\n",
    "NUM_HOLDS = 50\n",
    "\n",
    "# Generate data for each table\n",
    "# Library Data\n",
    "libraries = [{'library_id': i, 'name': fake.company(), 'location': fake.address()} for i in range(1, NUM_LIBRARIES + 1)]\n",
    "\n",
    "# Book Data\n",
    "books = [{'book_id': i, 'title': fake.catch_phrase(), 'author': fake.name(), 'category': random.choice(['Self-Improvement', 'Biography', 'Fantasy', 'Romance', 'Science Fiction']), 'quantity': random.randint(1, 10), 'library_id': random.randint(1, NUM_LIBRARIES)} for i in range(1, NUM_BOOKS + 1)]\n",
    "\n",
    "# User Data\n",
    "users = [{'user_id': i, 'username': fake.user_name(), 'email': fake.email(), 'password': fake.password()} for i in range(1, NUM_USERS + 1)]\n",
    "\n",
    "# Loan Data\n",
    "loans = [{'loan_id': i, 'user_id': random.randint(1, NUM_USERS), 'book_id': random.randint(1, NUM_BOOKS), 'loan_date': fake.date_between(start_date='-30d', end_date='today'), 'due_date': fake.date_between(start_date='today', end_date='+14d'), 'return_date': random.choice([None, fake.date_between(start_date='-30d', end_date='today')])} for i in range(1, NUM_LOANS + 1)]\n",
    "\n",
    "# Hold Data\n",
    "holds = [{'hold_id': i, 'user_id': random.randint(1, NUM_USERS), 'book_id': random.randint(1, NUM_BOOKS), 'hold_date': fake.date_between(start_date='-30d', end_date='today'), 'status': random.choice(['active', 'expired', 'fulfilled'])} for i in range(1, NUM_HOLDS + 1)]\n",
    "\n",
    "# Convert to DataFrames and save as CSV\n",
    "pd.DataFrame(libraries).to_csv('Library.csv', index=False)\n",
    "pd.DataFrame(books).to_csv('Book.csv', index=False)\n",
    "pd.DataFrame(users).to_csv('Users.csv', index=False)\n",
    "pd.DataFrame(loans).to_csv('Loan.csv', index=False)\n",
    "pd.DataFrame(holds).to_csv('Hold.csv', index=False)\n",
    "\n",
    "print(\"Dummy data generated and saved to CSV files.\")\n"
   ]
  },
  {
   "cell_type": "code",
   "execution_count": null,
   "id": "db33d980",
   "metadata": {},
   "outputs": [],
   "source": []
  }
 ],
 "metadata": {
  "kernelspec": {
   "display_name": "Python 3 (ipykernel)",
   "language": "python",
   "name": "python3"
  },
  "language_info": {
   "codemirror_mode": {
    "name": "ipython",
    "version": 3
   },
   "file_extension": ".py",
   "mimetype": "text/x-python",
   "name": "python",
   "nbconvert_exporter": "python",
   "pygments_lexer": "ipython3",
   "version": "3.11.5"
  }
 },
 "nbformat": 4,
 "nbformat_minor": 5
}
